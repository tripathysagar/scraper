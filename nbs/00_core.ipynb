{
 "cells": [
  {
   "cell_type": "markdown",
   "metadata": {},
   "source": [
    "# core\n",
    "\n",
    "> Fill in a module description here"
   ]
  },
  {
   "cell_type": "code",
   "execution_count": null,
   "metadata": {},
   "outputs": [],
   "source": [
    "#| default_exp core"
   ]
  },
  {
   "cell_type": "code",
   "execution_count": null,
   "metadata": {},
   "outputs": [],
   "source": [
    "#| hide\n",
    "from nbdev.showdoc import *"
   ]
  },
  {
   "cell_type": "code",
   "execution_count": null,
   "metadata": {},
   "outputs": [],
   "source": [
    "#| export\n",
    "import re\n",
    "from fastcore.all import *\n",
    "from urllib.parse import urlparse, urlencode, quote_plus, unquote\n",
    "import requests"
   ]
  },
  {
   "cell_type": "code",
   "execution_count": null,
   "metadata": {},
   "outputs": [],
   "source": [
    "#| export\n",
    "IGNORE_EXT = [\n",
    "    \".jpg\", \".jpeg\", \".png\", \".gif\", \".bmp\", \".tiff\", \".tif\", \".webp\",  # Image Files\n",
    "    \".mp3\", \".wav\", \".aac\", \".flac\", \".mp4\", \".avi\", \".mov\", \".mkv\", \".webm\",  # Audio and Video Files\n",
    "    \".zip\", \".rar\", \".tar\", \".gz\", \".7z\",  # Archive Files\n",
    "    \".html\", \".css\", \".js\", \".json\", \".xml\", \".yaml\", \".yml\", \".md\", \".php\",  # Web and Code Files\n",
    "    \".sql\", \".sqlite\", \".db\", \".bak\",  # Database and Backup Files\n",
    "    \".iso\", \".epub\", \".chm\", \".dmg\", \".apk\", \".exe\", \".bin\",  # Miscellaneous Files\n",
    "    \".py\", \".java\", \".cpp\", \".go\", \".rb\", \".sh\",  # Code and Script Files\n",
    "]\n",
    "\n",
    "def valid_href(href:str):\n",
    "    \"\"\"\n",
    "    Checks if the provided `href` should be ignored based on a set of conditions.\n",
    "    Returns True if the href matches any ignore condition, otherwise False.\n",
    "    \"\"\"\n",
    "    if href is None:\n",
    "        return False\n",
    "    ignore_conditions = [\n",
    "        lambda x: x == \"\" or x == \"#\" or x in \"x\",\n",
    "        lambda x: x.startswith((\"ftp:\", \"irc:\", \"mailto:\", \"tel:\", \"javascript:\", \"app://\")),\n",
    "        lambda x: any(i in x for i in [\"private\",\"subscribe\",\"paywall\",\"login\"]),\n",
    "        lambda x: any(x.endswith(i) for i in IGNORE_EXT)\n",
    "        ]\n",
    "    \n",
    "    href = href.lower()\n",
    "    for fn in ignore_conditions:\n",
    "        if fn(href):\n",
    "            return False\n",
    "\n",
    "    return True"
   ]
  },
  {
   "cell_type": "code",
   "execution_count": null,
   "metadata": {},
   "outputs": [],
   "source": [
    "#|echo: True\n",
    "hrefs = [\n",
    "    \"mailto:someone@example.com\", \"tel:+1234567890\",\"javascript:void(0)\",\"https://example.com/file.mp4\",\n",
    "    \"https://example.com/image.JPG\",\"https://example.com/private-area\",\"https://example.com/login\",\n",
    "    \"https://example.com/subscribe\",\"https://example.com/api/data.json\",\"app://some-app\",\n",
    "]\n",
    "assert not any([valid_href(href) for href in hrefs ]) "
   ]
  },
  {
   "cell_type": "code",
   "execution_count": null,
   "metadata": {},
   "outputs": [],
   "source": [
    "#| export\n",
    "\n",
    "HTTP_URL_PATTERN = r'^http[s]*://.+'\n",
    "def hydrate_links(local_domain, url):\n",
    "    \"\"\"Converts relative URLs to absolute; returns None for external links.\"\"\"\n",
    "    url = unquote(url)\n",
    "    clean_link = None\n",
    "    \n",
    "    if re.search(HTTP_URL_PATTERN, url):\n",
    "        url_obj = urlparse(url)\n",
    "        if url_obj.netloc == local_domain:\n",
    "                clean_link = url\n",
    "\n",
    "    else:\n",
    "        if url.startswith(\"/\"):\n",
    "            url = url[1:]\n",
    "        clean_link = \"https://\" + local_domain + \"/\" + url\n",
    "\n",
    "    if clean_link is not None:\n",
    "        if clean_link.endswith(\"/#\"):\n",
    "            clean_link = clean_link[:-2] \n",
    "        if clean_link.endswith(\"/\") or  clean_link.endswith(\"#\"):\n",
    "            clean_link = clean_link[:-1]\n",
    "\n",
    "    return clean_link "
   ]
  },
  {
   "cell_type": "code",
   "execution_count": null,
   "metadata": {},
   "outputs": [],
   "source": [
    "assert hydrate_links(    \"or.wikipedia.org\",\n",
    "    \"https://or.wikipedia.org/wiki/%E0%AC%86%E0%AC%87%E0%AC%9C%E0%AC%BE%E0%AC%95_%E0%AC%B8%E0%AC%BE%E0%AC%A8%E0%AD%8D%E0%AC%A4%E0%AD%8D%E0%AC%B0%E0%AC%BE\",\n",
    ") == 'https://or.wikipedia.org/wiki/ଆଇଜାକ_ସାନ୍ତ୍ରା'"
   ]
  },
  {
   "cell_type": "code",
   "execution_count": null,
   "metadata": {},
   "outputs": [],
   "source": [
    "#|echo: True\n",
    "local_domain = \"example.com\"\n",
    "\n",
    "assert hydrate_links(local_domain, \"https://example.com/path\") == \"https://example.com/path\"\n",
    "assert hydrate_links(local_domain, \"https://otherdomain.com/path\") is None\n",
    "assert hydrate_links(local_domain, \"/path\") == \"https://example.com/path\"\n",
    "assert hydrate_links(local_domain, \"path\") == \"https://example.com/path\"\n",
    "assert hydrate_links(local_domain, \"https://example.com/path/\") == \"https://example.com/path\"\n",
    "assert hydrate_links(local_domain, \"/path/\") == \"https://example.com/path\"\n",
    "assert hydrate_links(local_domain, \"/\") == \"https://example.com\"\n",
    "assert hydrate_links(local_domain, \"\") == \"https://example.com\"\n",
    "assert hydrate_links(local_domain, \"http://example.com/path\") == \"http://example.com/path\"\n",
    "assert hydrate_links(local_domain, \"http://example.com/path/#\") == \"http://example.com/path\"\n",
    "assert hydrate_links(local_domain, \"http://example.com/path#\") == \"http://example.com/path\""
   ]
  },
  {
   "cell_type": "code",
   "execution_count": null,
   "metadata": {},
   "outputs": [],
   "source": [
    "#| export\n",
    "ALLOWED_EXT_CONTENT_TYPS = {\n",
    "    \".pdf\": \"application/pdf\",\n",
    "    \".doc\": \"application/msword\",\n",
    "    \".docx\": \"application/vnd.openxmlformats-officedocument.wordprocessingml.document\",\n",
    "    \".odt\": \"application/vnd.oasis.opendocument.text\",\n",
    "    \".xls\": \"application/vnd.ms-excel\",\n",
    "    \".xlsx\": \"application/vnd.openxmlformats-officedocument.spreadsheetml.sheet\",\n",
    "    \".ppt\": \"application/vnd.ms-powerpoint\",\n",
    "    \".pptx\": \"application/vnd.openxmlformats-officedocument.presentationml.presentation\",\n",
    "    \".txt\": \"text/plain\",\n",
    "    \".csv\": \"text/csv\",\n",
    "    \".html\": \"text/html\",\n",
    "}\n",
    "def get_fn_from_url(url: str):\n",
    "    \"\"\"\n",
    "    Return the file name from the URL.\n",
    "    If URL ends with .pdf, .doc, .docx, .html etc, return path.<extension>.\n",
    "    Else return path_params_query.html.\n",
    "    \"\"\"\n",
    "\n",
    "    parsed_url = urlparse(unquote(url.lower()))\n",
    "    \n",
    "    path = parsed_url.path\n",
    "    path += f\"/{parsed_url.params}\" if parsed_url.params else \"\"\n",
    "    path += f\"/{parsed_url.query}\" if parsed_url.query else \"\"\n",
    "    \n",
    "    path = re.sub(r\"[\\/=\\?\\s]\", \"_\", path)\n",
    "    \n",
    "    if any(path.endswith(ext) for ext in ALLOWED_EXT_CONTENT_TYPS.keys()):\n",
    "        return path\n",
    "\n",
    "    # Default case: return path with .html extension\n",
    "    return path + '.html'"
   ]
  },
  {
   "cell_type": "code",
   "execution_count": null,
   "metadata": {},
   "outputs": [],
   "source": [
    "assert get_fn_from_url(\"https://example.com/somepath/with/query?name=value\") == \"_somepath_with_query_name_value.html\"\n",
    "assert get_fn_from_url(\"https://example.com/somepath/report.pdf\") == \"_somepath_report.pdf\"\n",
    "assert get_fn_from_url(\"https://example.com/somepath/page.html\") == \"_somepath_page.html\"\n",
    "assert get_fn_from_url(\"https://example.com/somepath/with/space%20in%20path\") == \"_somepath_with_space_in_path.html\"\n",
    "assert get_fn_from_url(\"https://example.com/somepath/with/equals=sign\") == \"_somepath_with_equals_sign.html\"\n",
    "assert get_fn_from_url(\"https://example.com/\") == \"_.html\"\n",
    "assert get_fn_from_url(\"https://example.com/somepath/file.csv\") == \"_somepath_file.csv\"\n",
    "assert get_fn_from_url(\"https://example.com/somepath/long_query?param=value&another=more\") == '_somepath_long_query_param_value&another_more.html'\n",
    "assert get_fn_from_url(\"https://example.com/somepath/.docx\") == \"_somepath_.docx\""
   ]
  },
  {
   "cell_type": "code",
   "execution_count": null,
   "metadata": {},
   "outputs": [],
   "source": [
    "#| hide\n",
    "import nbdev; nbdev.nbdev_export()"
   ]
  }
 ],
 "metadata": {
  "kernelspec": {
   "display_name": "python3",
   "language": "python",
   "name": "python3"
  }
 },
 "nbformat": 4,
 "nbformat_minor": 2
}
