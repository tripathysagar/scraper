{
 "cells": [
  {
   "cell_type": "markdown",
   "metadata": {},
   "source": [
    "# scrap\n",
    "\n",
    "> Fill in a module description here"
   ]
  },
  {
   "cell_type": "code",
   "execution_count": null,
   "metadata": {},
   "outputs": [],
   "source": [
    "#| default_exp scrap"
   ]
  },
  {
   "cell_type": "code",
   "execution_count": 9,
   "metadata": {},
   "outputs": [],
   "source": [
    "#| export\n",
    "import asyncio\n",
    "from playwright.async_api import async_playwright, Page, Playwright\n",
    "import traceback\n",
    "from scraper.core import *"
   ]
  },
  {
   "cell_type": "code",
   "execution_count": 10,
   "metadata": {},
   "outputs": [],
   "source": [
    "#| export\n",
    "\n",
    "DEBUG = True\n",
    "BROWSERS = {\n",
    "    \"ch\": lambda pw: pw.chromium,\n",
    "    \"ff\": lambda pw: pw.firefox,\n",
    "    \"wk\": lambda pw: pw.webkit,\n",
    "}\n",
    "\n",
    "async def get_brow(pw: Playwright, brow_n: str):\n",
    "    \"\"\"\n",
    "    return browser_name object from \n",
    "    ch -> chromium\n",
    "    ff -> firefox\n",
    "    wk -> webkit\n",
    "    \"\"\"\n",
    "    browser_func = BROWSERS.get(brow_n)\n",
    "    if not browser_func:\n",
    "        raise ValueError(f\"Unknown browser: {brow_n}\")\n",
    "    return await browser_func(pw).launch(headless=DEBUG==False)"
   ]
  },
  {
   "cell_type": "code",
   "execution_count": 12,
   "metadata": {},
   "outputs": [
    {
     "name": "stdout",
     "output_type": "stream",
     "text": [
      "Launched ch\n",
      "Launched wk\n",
      "Launched ff\n"
     ]
    }
   ],
   "source": [
    "async with async_playwright() as pw:\n",
    "    async def _test(bn):\n",
    "        browser = await get_brow(pw, bn)\n",
    "        assert browser is not None\n",
    "        print(f\"Launched {bn}\")\n",
    "        await browser.close()\n",
    "\n",
    "    await asyncio.gather(\n",
    "        _test(\"ch\"),\n",
    "        _test(\"ff\"),\n",
    "        _test(\"wk\"),\n",
    "    )"
   ]
  },
  {
   "cell_type": "code",
   "execution_count": 14,
   "metadata": {},
   "outputs": [],
   "source": [
    "#| export \n",
    "async def get_href(page:Page):\n",
    "    \"\"\"\n",
    "    Takes in Page object and get back all the href which are not part of `ignore_href`.\\n\n",
    "    It is doen by loop through all the a tags.\n",
    "    \"\"\"\n",
    "    try:\n",
    "        links = [await tag.get_attribute('href')  for tag in await page.query_selector_all('a')]\n",
    "        return [ link for link in links if valid_href(link) ]\n",
    "    except Exception as e:\n",
    "        print(f\"failed for {await page.url}\")\n",
    "        traceback.print_exc()\n",
    "        raise e"
   ]
  },
  {
   "cell_type": "code",
   "execution_count": 15,
   "metadata": {},
   "outputs": [
    {
     "name": "stdout",
     "output_type": "stream",
     "text": [
      "hrefs=['https://nbdev.fast.ai/', 'https://nbdev.fast.ai/getting_started.html', 'https://nbdev.fast.ai/tutorials/tutorial.html', 'https://nbdev.fast.ai/blog/', 'https://nbdev.fast.ai/#', 'https://github.com/fastai/nbdev/issues', 'https://forums.fast.ai/', 'https://nbdev.fast.ai/getting_started.html#faq', 'https://github.com/fastai/nbdev', 'https://twitter.com/fastdotai', 'https://nbdev.fast.ai/getting_started.html', 'https://nbdev.fast.ai/getting_started.html', 'https://github.com/fastai/nbdev/issues/new']\n"
     ]
    }
   ],
   "source": [
    "async with async_playwright() as pw:\n",
    "    brow = await get_brow(pw, \"ch\")\n",
    "    page = await brow.new_page()\n",
    "    await page.goto('https://nbdev.fast.ai/') \n",
    "    hrefs = await get_href(page)\n",
    "    await page.close(); await brow.close()\n",
    "\n",
    "assert len(hrefs) != 0, \"Expected href to contain links, but it is empty.\"\n",
    "print(f\"{hrefs=}\")"
   ]
  },
  {
   "cell_type": "code",
   "execution_count": 16,
   "metadata": {},
   "outputs": [
    {
     "name": "stdout",
     "output_type": "stream",
     "text": [
      "i='https://nbdev.fast.ai/' ->  https://nbdev.fast.ai\n",
      "i='https://nbdev.fast.ai/getting_started.html' ->  https://nbdev.fast.ai/getting_started.html\n",
      "i='https://nbdev.fast.ai/tutorials/tutorial.html' ->  https://nbdev.fast.ai/tutorials/tutorial.html\n",
      "i='https://nbdev.fast.ai/blog/' ->  https://nbdev.fast.ai/blog\n",
      "i='https://nbdev.fast.ai/#' ->  https://nbdev.fast.ai\n",
      "i='https://github.com/fastai/nbdev/issues' ->  None\n",
      "i='https://forums.fast.ai/' ->  None\n",
      "i='https://nbdev.fast.ai/getting_started.html#faq' ->  https://nbdev.fast.ai/getting_started.html#faq\n",
      "i='https://github.com/fastai/nbdev' ->  None\n",
      "i='https://twitter.com/fastdotai' ->  None\n",
      "i='https://nbdev.fast.ai/getting_started.html' ->  https://nbdev.fast.ai/getting_started.html\n",
      "i='https://nbdev.fast.ai/getting_started.html' ->  https://nbdev.fast.ai/getting_started.html\n",
      "i='https://github.com/fastai/nbdev/issues/new' ->  None\n"
     ]
    }
   ],
   "source": [
    "for i in hrefs:\n",
    "    print(f\"{i=} -> \", hydrate_links(\"nbdev.fast.ai\", i) )"
   ]
  },
  {
   "cell_type": "code",
   "execution_count": 17,
   "metadata": {},
   "outputs": [],
   "source": [
    "#| hide\n",
    "import nbdev; nbdev.nbdev_export()"
   ]
  },
  {
   "cell_type": "code",
   "execution_count": null,
   "metadata": {},
   "outputs": [],
   "source": []
  }
 ],
 "metadata": {
  "kernelspec": {
   "display_name": "base",
   "language": "python",
   "name": "python3"
  },
  "language_info": {
   "codemirror_mode": {
    "name": "ipython",
    "version": 3
   },
   "file_extension": ".py",
   "mimetype": "text/x-python",
   "name": "python",
   "nbconvert_exporter": "python",
   "pygments_lexer": "ipython3",
   "version": "3.12.2"
  }
 },
 "nbformat": 4,
 "nbformat_minor": 2
}
